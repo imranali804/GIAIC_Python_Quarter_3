{
  "nbformat": 4,
  "nbformat_minor": 0,
  "metadata": {
    "colab": {
      "provenance": [],
      "authorship_tag": "ABX9TyOAjSoA5yNw6NjsM5hBnBaA",
      "include_colab_link": true
    },
    "kernelspec": {
      "name": "python3",
      "display_name": "Python 3"
    },
    "language_info": {
      "name": "python"
    }
  },
  "cells": [
    {
      "cell_type": "markdown",
      "metadata": {
        "id": "view-in-github",
        "colab_type": "text"
      },
      "source": [
        "<a href=\"https://colab.research.google.com/github/imranali804/GIAIC_Python_Quarter_3/blob/main/Mad_libs.ipynb\" target=\"_parent\"><img src=\"https://colab.research.google.com/assets/colab-badge.svg\" alt=\"Open In Colab\"/></a>"
      ]
    },
    {
      "cell_type": "code",
      "execution_count": 3,
      "metadata": {
        "colab": {
          "base_uri": "https://localhost:8080/"
        },
        "id": "hQhsj7cz9HUO",
        "outputId": "9a2c67f0-25ec-4b70-c244-8622aa4ea5ea"
      },
      "outputs": [
        {
          "output_type": "stream",
          "name": "stdout",
          "text": [
            "Let's play Mad Libs! Fill in the blanks:\n",
            "\n",
            "Enter an adjective: slimy\n",
            "Enter a noun: imran\n",
            "Enter a verb (past tense): Eate\n",
            "Enter a place: resturant\n",
            "Enter an adverb: pizza\n",
            "\n",
            "Here's your Mad Libs story:\n",
            "\n",
            "    Today I went to the resturant. It was a very slimy day.\n",
            "    I saw a imran that Eate pizza in front of me!\n",
            "    I couldn't believe my eyes!\n",
            "    \n"
          ]
        }
      ],
      "source": [
        "def mad_libs():\n",
        "    print(\"Let's play Mad Libs! Fill in the blanks:\\n\")\n",
        "\n",
        "    # Prompt user for words\n",
        "    adjective = input(\"Enter an adjective: \")\n",
        "    noun = input(\"Enter a noun: \")\n",
        "    verb_past = input(\"Enter a verb (past tense): \")\n",
        "    place = input(\"Enter a place: \")\n",
        "    adverb = input(\"Enter an adverb: \")\n",
        "\n",
        "    # Mad Libs story\n",
        "    story = f\"\"\"\n",
        "    Today I went to the {place}. It was a very {adjective} day.\n",
        "    I saw a {noun} that {verb_past} {adverb} in front of me!\n",
        "    I couldn't believe my eyes!\n",
        "    \"\"\"\n",
        "\n",
        "    print(\"\\nHere's your Mad Libs story:\")\n",
        "    print(story)\n",
        "\n",
        "# Run the game\n",
        "mad_libs()\n",
        "\n"
      ]
    }
  ]
}