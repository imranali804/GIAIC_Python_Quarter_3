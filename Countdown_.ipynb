{
  "nbformat": 4,
  "nbformat_minor": 0,
  "metadata": {
    "colab": {
      "provenance": [],
      "authorship_tag": "ABX9TyM1DprfWruHQffJfqNEZrUH",
      "include_colab_link": true
    },
    "kernelspec": {
      "name": "python3",
      "display_name": "Python 3"
    },
    "language_info": {
      "name": "python"
    }
  },
  "cells": [
    {
      "cell_type": "markdown",
      "metadata": {
        "id": "view-in-github",
        "colab_type": "text"
      },
      "source": [
        "<a href=\"https://colab.research.google.com/github/imranali804/GIAIC_Python_Quarter_3/blob/main/Countdown_.ipynb\" target=\"_parent\"><img src=\"https://colab.research.google.com/assets/colab-badge.svg\" alt=\"Open In Colab\"/></a>"
      ]
    },
    {
      "cell_type": "code",
      "execution_count": 1,
      "metadata": {
        "colab": {
          "base_uri": "https://localhost:8080/"
        },
        "id": "Of8hm2g5BKCn",
        "outputId": "f623626a-0edb-421b-f82a-07cf51fba156"
      },
      "outputs": [
        {
          "output_type": "stream",
          "name": "stdout",
          "text": [
            "Enter countdown time in seconds: 5\n",
            "⏰ Time's up!\n"
          ]
        }
      ],
      "source": [
        "import time\n",
        "\n",
        "def countdown(seconds):\n",
        "    while seconds:\n",
        "        mins, secs = divmod(seconds, 60)\n",
        "        timer_format = f\"{mins:02d}:{secs:02d}\"\n",
        "        print(timer_format, end=\"\\r\")\n",
        "        time.sleep(1)\n",
        "        seconds -= 1\n",
        "\n",
        "    print(\"⏰ Time's up!\")\n",
        "\n",
        "# Ask user for countdown time\n",
        "try:\n",
        "    total_time = int(input(\"Enter countdown time in seconds: \"))\n",
        "    countdown(total_time)\n",
        "except ValueError:\n",
        "    print(\"❗ Please enter a valid number.\")\n",
        "\n"
      ]
    }
  ]
}