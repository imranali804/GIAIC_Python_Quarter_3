{
  "nbformat": 4,
  "nbformat_minor": 0,
  "metadata": {
    "colab": {
      "provenance": [],
      "authorship_tag": "ABX9TyPyY5B72YPjac7Wz40NMEc2",
      "include_colab_link": true
    },
    "kernelspec": {
      "name": "python3",
      "display_name": "Python 3"
    },
    "language_info": {
      "name": "python"
    }
  },
  "cells": [
    {
      "cell_type": "markdown",
      "metadata": {
        "id": "view-in-github",
        "colab_type": "text"
      },
      "source": [
        "<a href=\"https://colab.research.google.com/github/imranali804/GIAIC_Python_Quarter_3/blob/main/Hangman_pro.ipynb\" target=\"_parent\"><img src=\"https://colab.research.google.com/assets/colab-badge.svg\" alt=\"Open In Colab\"/></a>"
      ]
    },
    {
      "cell_type": "code",
      "execution_count": null,
      "metadata": {
        "colab": {
          "base_uri": "https://localhost:8080/"
        },
        "id": "Eg-QTtoh_raW",
        "outputId": "a0f14663-c43d-441d-a6d6-530fae068ffe"
      },
      "outputs": [
        {
          "output_type": "stream",
          "name": "stdout",
          "text": [
            "🎮 Welcome to Hangman!\n",
            "_ _ _ _ _ _ _ _ _ _ _\n",
            "\n",
            "Guess a letter: 10\n",
            "❗ Please enter a single alphabetical letter.\n",
            "\n",
            "Guess a letter: imran\n",
            "❗ Please enter a single alphabetical letter.\n",
            "\n",
            "Guess a letter: I\n",
            "✅ Correct guess!\n",
            "Word: _ _ _ _ _ _ _ _ i _ _\n",
            "\n",
            "Guess a letter: m\n",
            "✅ Correct guess!\n",
            "Word: _ _ _ _ _ _ m m i _ _\n",
            "\n",
            "Guess a letter: r\n",
            "✅ Correct guess!\n",
            "Word: _ r _ _ r _ m m i _ _\n",
            "\n",
            "Guess a letter: a\n",
            "✅ Correct guess!\n",
            "Word: _ r _ _ r a m m i _ _\n",
            "\n",
            "Guess a letter: n\n",
            "✅ Correct guess!\n",
            "Word: _ r _ _ r a m m i n _\n",
            "\n",
            "Guess a letter: a\n",
            "⚠️ You've already guessed that letter.\n",
            "\n",
            "Guess a letter: l\n",
            "❌ Wrong guess! You have 5 tries left.\n",
            "Word: _ r _ _ r a m m i n _\n",
            "\n",
            "Guess a letter: a\n",
            "⚠️ You've already guessed that letter.\n",
            "\n",
            "Guess a letter: s\n",
            "❌ Wrong guess! You have 4 tries left.\n",
            "Word: _ r _ _ r a m m i n _\n",
            "\n",
            "Guess a letter: d\n",
            "❌ Wrong guess! You have 3 tries left.\n",
            "Word: _ r _ _ r a m m i n _\n"
          ]
        }
      ],
      "source": [
        "import random\n",
        "\n",
        "# Word list for the game\n",
        "word_list = [\"python\", \"hangman\", \"challenge\", \"developer\", \"programming\", \"code\"]\n",
        "\n",
        "# Select a random word from the list\n",
        "word = random.choice(word_list)\n",
        "guessed_word = [\"_\"] * len(word)\n",
        "guessed_letters = set()\n",
        "tries = 6  # Number of allowed incorrect guesses\n",
        "\n",
        "print(\"🎮 Welcome to Hangman!\")\n",
        "print(\" \".join(guessed_word))\n",
        "\n",
        "while tries > 0 and \"_\" in guessed_word:\n",
        "    guess = input(\"\\nGuess a letter: \").lower()\n",
        "\n",
        "    if not guess.isalpha() or len(guess) != 1:\n",
        "        print(\"❗ Please enter a single alphabetical letter.\")\n",
        "        continue\n",
        "\n",
        "    if guess in guessed_letters:\n",
        "        print(\"⚠️ You've already guessed that letter.\")\n",
        "        continue\n",
        "\n",
        "    guessed_letters.add(guess)\n",
        "\n",
        "    if guess in word:\n",
        "        print(\"✅ Correct guess!\")\n",
        "        for index, letter in enumerate(word):\n",
        "            if letter == guess:\n",
        "                guessed_word[index] = guess\n",
        "    else:\n",
        "        tries -= 1\n",
        "        print(f\"❌ Wrong guess! You have {tries} tries left.\")\n",
        "\n",
        "    print(\"Word:\", \" \".join(guessed_word))\n",
        "\n",
        "# Game result\n",
        "if \"_\" not in guessed_word:\n",
        "    print(\"\\n🎉 Congratulations! You guessed the word:\", word)\n",
        "else:\n",
        "    print(\"\\n💀 Game Over! The word was:\", word)\n"
      ]
    }
  ]
}