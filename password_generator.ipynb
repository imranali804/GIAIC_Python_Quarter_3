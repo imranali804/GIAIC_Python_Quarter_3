{
  "nbformat": 4,
  "nbformat_minor": 0,
  "metadata": {
    "colab": {
      "provenance": [],
      "authorship_tag": "ABX9TyP2MAwes4xriSC427vnXIhv",
      "include_colab_link": true
    },
    "kernelspec": {
      "name": "python3",
      "display_name": "Python 3"
    },
    "language_info": {
      "name": "python"
    }
  },
  "cells": [
    {
      "cell_type": "markdown",
      "metadata": {
        "id": "view-in-github",
        "colab_type": "text"
      },
      "source": [
        "<a href=\"https://colab.research.google.com/github/imranali804/GIAIC_Python_Quarter_3/blob/main/password_generator.ipynb\" target=\"_parent\"><img src=\"https://colab.research.google.com/assets/colab-badge.svg\" alt=\"Open In Colab\"/></a>"
      ]
    },
    {
      "cell_type": "code",
      "execution_count": 1,
      "metadata": {
        "id": "r-D3Jyy6wLVB"
      },
      "outputs": [],
      "source": [
        "import random\n",
        "import string\n",
        "\n",
        "def generate_password(length=12, use_upper=True, use_digits=True, use_specials=True):\n",
        "    lower = string.ascii_lowercase\n",
        "    upper = string.ascii_uppercase if use_upper else ''\n",
        "    digits = string.digits if use_digits else ''\n",
        "    specials = string.punctuation if use_specials else ''\n",
        "\n",
        "    all_chars = lower + upper + digits + specials\n",
        "\n",
        "    if not all_chars:\n",
        "        raise ValueError(\"At least one character set must be selected.\")\n",
        "\n",
        "    # Ensure password has at least one character from each selected set\n",
        "    password = []\n",
        "\n",
        "    if use_upper:\n",
        "        password.append(random.choice(upper))\n",
        "    if use_digits:\n",
        "        password.append(random.choice(digits))\n",
        "    if use_specials:\n",
        "        password.append(random.choice(specials))\n",
        "\n",
        "    # Fill the rest of the password length\n",
        "    password += [random.choice(all_chars) for _ in range(length - len(password))]\n",
        "    random.shuffle(password)\n",
        "\n",
        "    return ''.join(password)\n",
        "\n",
        "def main():\n",
        "    print(\"🔐 Welcome to the Password Generator!\")\n",
        "    length = int(input(\"Enter desired password length: \"))\n",
        "    use_upper = input(\"Include uppercase letters? (y/n): \").strip().lower() == 'y'\n",
        "    use_digits = input(\"Include numbers? (y/n): \").strip().lower() == 'y'\n"
      ]
    }
  ]
}